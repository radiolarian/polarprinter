{
 "cells": [
  {
   "cell_type": "code",
   "execution_count": 17,
   "metadata": {
    "collapsed": true
   },
   "outputs": [],
   "source": [
    "#generate a hexagon\n",
    "import math\n",
    "from PIL import Image, ImageDraw\n",
    "from matplotlib import pyplot as plt\n",
    "%matplotlib inline\n",
    "import numpy as np\n",
    "\n",
    "def hexagon_generator(edge_length, offset):\n",
    "    \"\"\"Generator for coordinates in a hexagon.\"\"\"\n",
    "    x, y = offset\n",
    "    for angle in range(0, 360, 60):\n",
    "        x += math.cos(math.radians(angle)) * edge_length\n",
    "        y += math.sin(math.radians(angle)) * edge_length\n",
    "        yield x, y"
   ]
  },
  {
   "cell_type": "code",
   "execution_count": 15,
   "metadata": {
    "collapsed": false
   },
   "outputs": [
    {
     "data": {
      "text/plain": [
       "<matplotlib.image.AxesImage at 0x10e732710>"
      ]
     },
     "execution_count": 15,
     "metadata": {},
     "output_type": "execute_result"
    },
    {
     "data": {
      "image/png": "[encoded data removed]",
      "text/plain": [
       "<matplotlib.figure.Figure at 0x10d8cd910>"
      ]
     },
     "metadata": {},
     "output_type": "display_data"
    }
   ],
   "source": [
    "image = Image.new('RGB', (150, 150), 'white')\n",
    "draw = ImageDraw.Draw(image)\n",
    "hexagon = list(hexagon_generator(50, offset=(30, 50)))\n",
    "draw.polygon(hexagon, outline='black', fill='red')\n",
    "plt.imshow(image)"
   ]
  },
  {
   "cell_type": "code",
   "execution_count": 18,
   "metadata": {
    "collapsed": false
   },
   "outputs": [
    {
     "name": "stdout",
     "output_type": "stream",
     "text": [
      "[[  80.           50.        ]\n",
      " [ 105.           93.30127019]\n",
      " [  80.          136.60254038]\n",
      " [  30.          136.60254038]\n",
      " [   5.           93.30127019]\n",
      " [  30.           50.        ]]\n"
     ]
    }
   ],
   "source": [
    "print np.asarray(hexagon)"
   ]
  },
  {
   "cell_type": "code",
   "execution_count": 21,
   "metadata": {
    "collapsed": false
   },
   "outputs": [
    {
     "name": "stdout",
     "output_type": "stream",
     "text": [
      "(6, 2)\n"
     ]
    }
   ],
   "source": [
    "nphex = np.asarray(hexagon)\n",
    "print nphex.shape "
   ]
  },
  {
   "cell_type": "code",
   "execution_count": 93,
   "metadata": {
    "collapsed": false
   },
   "outputs": [],
   "source": [
    "def subdivide_lines(lines, subdivisions=50, close=False):\n",
    "    '''given an np array of points that define lines, returns an array of points on the line\n",
    "       with # subdivisions each. Close if you want a closed loop'''\n",
    "    \n",
    "    subdivided = []\n",
    "    for i in xrange(0, lines.shape[0]):\n",
    "        r = lines[i]\n",
    "        line = []\n",
    "        if i != lines.shape[0] - 1:\n",
    "            v = lines[i+1] - lines[i]\n",
    "        elif i == lines.shape[0] - 1 and close:\n",
    "            v = lines[0] - lines[i]\n",
    "        else:\n",
    "            return np.asarray(subdivided)\n",
    "        for j in xrange(1, subdivisions+1):\n",
    "            line.append(np.asarray(r + (j*1.0/subdivisions)*v))\n",
    "        subdivided.append(np.asarray(line))\n",
    "            \n",
    "    return np.asarray(subdivided)"
   ]
  },
  {
   "cell_type": "code",
   "execution_count": 94,
   "metadata": {
    "collapsed": false
   },
   "outputs": [
    {
     "name": "stdout",
     "output_type": "stream",
     "text": [
      "(6, 50, 2)\n"
     ]
    }
   ],
   "source": [
    "subhex = subdivide_lines(nphex, close=True)\n",
    "print subhex.shape"
   ]
  },
  {
   "cell_type": "code",
   "execution_count": 97,
   "metadata": {
    "collapsed": false
   },
   "outputs": [
    {
     "name": "stdout",
     "output_type": "stream",
     "text": [
      "(2, 300)\n"
     ]
    }
   ],
   "source": [
    "flathex = subhex.reshape(-1,2)\n",
    "flathex = flathex.T\n",
    "print flathex.shape"
   ]
  },
  {
   "cell_type": "code",
   "execution_count": 108,
   "metadata": {
    "collapsed": true
   },
   "outputs": [],
   "source": [
    "def cartesian_to_cylindrical(x, y, z):\n",
    "    '''Given 3 np arrays--x, y, z--of cartesian points, returns a np array of r, theta (in radians), z'''\n",
    "    c_list = []\n",
    "    for i in xrange(len(x)):\n",
    "        # print (x[i], y[i])\n",
    "        r = np.sqrt(float(x[i])**2 + float(y[i])**2)\n",
    "        t = np.arctan2(float(y[i]), float(x[i]))\n",
    "        c_list.append([r, t, float(z[i])])\n",
    "    return np.asarray(c_list)\n"
   ]
  },
  {
   "cell_type": "code",
   "execution_count": 113,
   "metadata": {
    "collapsed": true
   },
   "outputs": [],
   "source": [
    "cylin_hex = cartesian_to_cylindrical(flathex[0,:], flathex[1,:], np.zeros(flathex.shape[1]))"
   ]
  },
  {
   "cell_type": "code",
   "execution_count": 114,
   "metadata": {
    "collapsed": false
   },
   "outputs": [
    {
     "name": "stdout",
     "output_type": "stream",
     "text": [
      "[[  95.22395991    0.56352865    0.        ]\n",
      " [  96.11037967    0.56836717    0.        ]\n",
      " [  96.99900835    0.57311715    0.        ]\n",
      " [  97.88978579    0.57778078    0.        ]\n",
      " [  98.78265385    0.58236021    0.        ]\n",
      " [  99.67755636    0.5868575     0.        ]\n",
      " [ 100.57443901    0.59127467    0.        ]\n",
      " [ 101.4732493     0.59561367    0.        ]\n",
      " [ 102.37393645    0.5998764     0.        ]\n",
      " [ 103.27645135    0.6040647     0.        ]\n",
      " [ 104.18074651    0.60818036    0.        ]\n",
      " [ 105.08677597    0.61222513    0.        ]\n",
      " [ 105.99449526    0.61620068    0.        ]\n",
      " [ 106.90386132    0.62010866    0.        ]\n",
      " [ 107.81483249    0.62395065    0.        ]\n",
      " [ 108.72736843    0.62772821    0.        ]\n",
      " [ 109.64143006    0.63144283    0.        ]\n",
      " [ 110.55697955    0.63509598    0.        ]\n",
      " [ 111.47398022    0.63868908    0.        ]\n",
      " [ 112.39239657    0.6422235     0.        ]\n",
      " [ 113.31219417    0.64570058    0.        ]\n",
      " [ 114.23333965    0.64912163    0.        ]\n",
      " [ 115.15580067    0.6524879     0.        ]\n",
      " [ 116.07954587    0.65580064    0.        ]\n",
      " [ 117.00454482    0.65906103    0.        ]\n",
      " [ 117.93076804    0.66227024    0.        ]\n",
      " [ 118.85818689    0.66542941    0.        ]\n",
      " [ 119.7867736     0.66853962    0.        ]\n",
      " [ 120.71650124    0.67160195    0.        ]\n",
      " [ 121.64734363    0.67461745    0.        ]\n",
      " [ 122.57927538    0.67758712    0.        ]\n",
      " [ 123.51227183    0.68051196    0.        ]\n",
      " [ 124.44630904    0.68339291    0.        ]\n",
      " [ 125.38136374    0.68623091    0.        ]\n",
      " [ 126.31741334    0.68902688    0.        ]\n",
      " [ 127.25443589    0.69178169    0.        ]\n",
      " [ 128.19241005    0.69449621    0.        ]\n",
      " [ 129.13131508    0.69717127    0.        ]\n",
      " [ 130.07113083    0.6998077     0.        ]\n",
      " [ 131.01183769    0.70240628    0.        ]\n",
      " [ 131.95341661    0.7049678     0.        ]\n",
      " [ 132.89584905    0.707493      0.        ]\n",
      " [ 133.83911699    0.70998262    0.        ]\n",
      " [ 134.78320287    0.71243738    0.        ]\n",
      " [ 135.72808964    0.71485798    0.        ]\n",
      " [ 136.67376068    0.71724509    0.        ]\n",
      " [ 137.62019982    0.71959939    0.        ]\n",
      " [ 138.56739132    0.72192151    0.        ]\n",
      " [ 139.51531987    0.72421208    0.        ]\n",
      " [ 140.46397054    0.72647173    0.        ]\n",
      " [ 140.66886493    0.73343489    0.        ]\n",
      " [ 140.88055969    0.74037746    0.        ]\n",
      " [ 141.09902423    0.74729886    0.        ]\n",
      " [ 141.32422715    0.75419854    0.        ]\n",
      " [ 141.55613629    0.76107593    0.        ]\n",
      " [ 141.79471874    0.7679305     0.        ]\n",
      " [ 142.03994087    0.77476173    0.        ]\n",
      " [ 142.29176836    0.78156909    0.        ]\n",
      " [ 142.5501662     0.78835208    0.        ]\n",
      " [ 142.81509872    0.79511022    0.        ]\n",
      " [ 143.08652964    0.80184303    0.        ]\n",
      " [ 143.36442203    0.80855004    0.        ]\n",
      " [ 143.6487384     0.8152308     0.        ]\n",
      " [ 143.93944068    0.82188487    0.        ]\n",
      " [ 144.23649027    0.82851182    0.        ]\n",
      " [ 144.53984802    0.83511125    0.        ]\n",
      " [ 144.8494743     0.84168274    0.        ]\n",
      " [ 145.16532901    0.84822593    0.        ]\n",
      " [ 145.48737157    0.85474042    0.        ]\n",
      " [ 145.81556099    0.86122586    0.        ]\n",
      " [ 146.14985586    0.8676819     0.        ]\n",
      " [ 146.49021437    0.87410821    0.        ]\n",
      " [ 146.83659437    0.88050447    0.        ]\n",
      " [ 147.18895335    0.88687036    0.        ]\n",
      " [ 147.54724846    0.89320559    0.        ]\n",
      " [ 147.91143657    0.89950987    0.        ]\n",
      " [ 148.28147426    0.90578294    0.        ]\n",
      " [ 148.65731785    0.91202453    0.        ]\n",
      " [ 149.03892341    0.9182344     0.        ]\n",
      " [ 149.42624679    0.92441232    0.        ]\n",
      " [ 149.81924366    0.93055805    0.        ]\n",
      " [ 150.21786948    0.9366714     0.        ]\n",
      " [ 150.62207956    0.94275217    0.        ]\n",
      " [ 151.03182907    0.94880016    0.        ]\n",
      " [ 151.44707304    0.95481521    0.        ]\n",
      " [ 151.8677664     0.96079714    0.        ]\n",
      " [ 152.293864      0.96674582    0.        ]\n",
      " [ 152.7253206     0.97266109    0.        ]\n",
      " [ 153.16209092    0.97854283    0.        ]\n",
      " [ 153.60412961    0.98439092    0.        ]\n",
      " [ 154.05139134    0.99020525    0.        ]\n",
      " [ 154.50383074    0.99598572    0.        ]\n",
      " [ 154.96140247    1.00173225    0.        ]\n",
      " [ 155.42406119    1.00744475    0.        ]\n",
      " [ 155.8917616     1.01312316    0.        ]\n",
      " [ 156.36445848    1.01876742    0.        ]\n",
      " [ 156.84210664    1.02437747    0.        ]\n",
      " [ 157.32466099    1.02995329    0.        ]\n",
      " [ 157.81207653    1.03549484    0.        ]\n",
      " [ 158.30430834    1.04100209    0.        ]\n",
      " [ 157.8013119     1.04647046    0.        ]\n",
      " [ 157.3030643     1.05197363    0.        ]\n",
      " [ 156.8096108     1.05751161    0.        ]\n",
      " [ 156.32099679    1.06308437    0.        ]\n",
      " [ 155.83726781    1.06869191    0.        ]\n",
      " [ 155.35846948    1.0743342     0.        ]\n",
      " [ 154.88464752    1.08001118    0.        ]\n",
      " [ 154.41584775    1.08572282    0.        ]\n",
      " [ 153.95211606    1.09146906    0.        ]\n",
      " [ 153.49349836    1.09724983    0.        ]\n",
      " [ 153.04004064    1.10306505    0.        ]\n",
      " [ 152.59178889    1.10891463    0.        ]\n",
      " [ 152.14878914    1.11479848    0.        ]\n",
      " [ 151.71108739    1.12071649    0.        ]\n",
      " [ 151.27872963    1.12666854    0.        ]\n",
      " [ 150.8517618     1.13265449    0.        ]\n",
      " [ 150.4302298     1.1386742     0.        ]\n",
      " [ 150.01417946    1.14472753    0.        ]\n",
      " [ 149.6036565     1.1508143     0.        ]\n",
      " [ 149.19870656    1.15693434    0.        ]\n",
      " [ 148.79937513    1.16308746    0.        ]\n",
      " [ 148.40570756    1.16927345    0.        ]\n",
      " [ 148.01774906    1.17549212    0.        ]\n",
      " [ 147.63554463    1.18174323    0.        ]\n",
      " [ 147.25913906    1.18802654    0.        ]\n",
      " [ 146.88857695    1.1943418     0.        ]\n",
      " [ 146.52390262    1.20068875    0.        ]\n",
      " [ 146.16516014    1.20706711    0.        ]\n",
      " [ 145.81239329    1.2134766     0.        ]\n",
      " [ 145.46564556    1.21991692    0.        ]\n",
      " [ 145.12496008    1.22638773    0.        ]\n",
      " [ 144.79037965    1.23288873    0.        ]\n",
      " [ 144.46194668    1.23941957    0.        ]\n",
      " [ 144.1397032     1.24597988    0.        ]\n",
      " [ 143.82369081    1.25256931    0.        ]\n",
      " [ 143.51395067    1.25918748    0.        ]\n",
      " [ 143.21052349    1.26583398    0.        ]\n",
      " [ 142.91344946    1.2725084     0.        ]\n",
      " [ 142.6227683     1.27921033    0.        ]\n",
      " [ 142.33851916    1.28593934    0.        ]\n",
      " [ 142.06074066    1.29269496    0.        ]\n",
      " [ 141.78947083    1.29947675    0.        ]\n",
      " [ 141.52474709    1.30628422    0.        ]\n",
      " [ 141.26660624    1.31311689    0.        ]\n",
      " [ 141.01508443    1.31997425    0.        ]\n",
      " [ 140.77021715    1.32685579    0.        ]\n",
      " [ 140.53203919    1.33376099    0.        ]\n",
      " [ 140.3005846     1.3406893     0.        ]\n",
      " [ 140.07588671    1.34764017    0.        ]\n",
      " [ 139.8579781     1.35461305    0.        ]\n",
      " [ 138.90518888    1.35679149    0.        ]\n",
      " [ 137.95306795    1.35900001    0.        ]\n",
      " [ 137.00162925    1.36123921    0.        ]\n",
      " [ 136.05088708    1.36350973    0.        ]\n",
      " [ 135.10085616    1.36581218    0.        ]\n",
      " [ 134.1515516     1.36814724    0.        ]\n",
      " [ 133.20298891    1.37051557    0.        ]\n",
      " [ 132.25518408    1.37291785    0.        ]\n",
      " [ 131.3081535     1.37535481    0.        ]\n",
      " [ 130.36191405    1.37782715    0.        ]\n",
      " [ 129.41648308    1.38033563    0.        ]\n",
      " [ 128.47187845    1.38288102    0.        ]\n",
      " [ 127.52811852    1.38546409    0.        ]\n",
      " [ 126.58522217    1.38808567    0.        ]\n",
      " [ 125.64320886    1.39074658    0.        ]\n",
      " [ 124.70209859    1.39344766    0.        ]\n",
      " [ 123.76191196    1.39618981    0.        ]\n",
      " [ 122.82267018    1.39897392    0.        ]\n",
      " [ 121.88439511    1.40180091    0.        ]\n",
      " [ 120.94710923    1.40467174    0.        ]\n",
      " [ 120.01083572    1.40758739    0.        ]\n",
      " [ 119.07559846    1.41054887    0.        ]\n",
      " [ 118.14142207    1.41355721    0.        ]\n",
      " [ 117.20833191    1.41661347    0.        ]\n",
      " [ 116.27635412    1.41971876    0.        ]\n",
      " [ 115.34551568    1.42287419    0.        ]\n",
      " [ 114.41584439    1.42608094    0.        ]\n",
      " [ 113.48736893    1.42934019    0.        ]\n",
      " [ 112.5601189     1.43265318    0.        ]\n",
      " [ 111.63412483    1.43602116    0.        ]\n",
      " [ 110.70941824    1.43944545    0.        ]\n",
      " [ 109.78603165    1.44292738    0.        ]\n",
      " [ 108.86399867    1.44646834    0.        ]\n",
      " [ 107.94335396    1.45006974    0.        ]\n",
      " [ 107.02413337    1.45373305    0.        ]\n",
      " [ 106.10637391    1.45745979    0.        ]\n",
      " [ 105.19011381    1.4612515     0.        ]\n",
      " [ 104.27539261    1.4651098     0.        ]\n",
      " [ 103.36225115    1.46903632    0.        ]\n",
      " [ 102.45073168    1.47303278    0.        ]\n",
      " [ 101.54087789    1.47710092    0.        ]\n",
      " [ 100.63273494    1.48124255    0.        ]\n",
      " [  99.72634959    1.48545955    0.        ]\n",
      " [  98.82177018    1.48975382    0.        ]\n",
      " [  97.91904677    1.49412735    0.        ]\n",
      " [  97.01823118    1.49858219    0.        ]\n",
      " [  96.11937703    1.50312044    0.        ]\n",
      " [  95.22253987    1.50774427    0.        ]\n",
      " [  94.32777724    1.51245592    0.        ]\n",
      " [  93.43514873    1.5172577     0.        ]\n",
      " [  92.59872828    1.51136528    0.        ]\n",
      " [  91.76558145    1.50536566    0.        ]\n",
      " [  90.93579822    1.49925632    0.        ]\n",
      " [  90.10947152    1.49303469    0.        ]\n",
      " [  89.28669731    1.48669816    0.        ]\n",
      " [  88.46757472    1.48024401    0.        ]\n",
      " [  87.65220611    1.47366952    0.        ]\n",
      " [  86.84069723    1.46697185    0.        ]\n",
      " [  86.0331573     1.46014814    0.        ]\n",
      " [  85.22969914    1.45319545    0.        ]\n",
      " [  84.43043927    1.44611078    0.        ]\n",
      " [  83.63549805    1.43889106    0.        ]\n",
      " [  82.84499981    1.43153317    0.        ]\n",
      " [  82.05907295    1.42403392    0.        ]\n",
      " [  81.27785008    1.41639008    0.        ]\n",
      " [  80.50146814    1.40859833    0.        ]\n",
      " [  79.73006856    1.40065533    0.        ]\n",
      " [  78.96379735    1.39255764    0.        ]\n",
      " [  78.20280527    1.38430181    0.        ]\n",
      " [  77.44724793    1.37588431    0.        ]\n",
      " [  76.69728594    1.36730157    0.        ]\n",
      " [  75.95308506    1.35854999    0.        ]\n",
      " [  75.21481629    1.34962592    0.        ]\n",
      " [  74.48265603    1.34052566    0.        ]\n",
      " [  73.75678619    1.3312455     0.        ]\n",
      " [  73.03739432    1.3217817     0.        ]\n",
      " [  72.32467372    1.3121305     0.        ]\n",
      " [  71.61882356    1.30228813    0.        ]\n",
      " [  70.92004898    1.29225082    0.        ]\n",
      " [  70.2285612     1.2820148     0.        ]\n",
      " [  69.54457755    1.27157632    0.        ]\n",
      " [  68.86832165    1.26093166    0.        ]\n",
      " [  68.20002336    1.25007714    0.        ]\n",
      " [  67.53991891    1.23900911    0.        ]\n",
      " [  66.88825088    1.22772402    0.        ]\n",
      " [  66.24526825    1.21621837    0.        ]\n",
      " [  65.61122636    1.20448877    0.        ]\n",
      " [  64.98638692    1.19253193    0.        ]\n",
      " [  64.37101789    1.18034472    0.        ]\n",
      " [  63.76539347    1.16792414    0.        ]\n",
      " [  63.16979392    1.15526735    0.        ]\n",
      " [  62.58450545    1.14237174    0.        ]\n",
      " [  62.00982005    1.12923488    0.        ]\n",
      " [  61.4460352     1.11585461    0.        ]\n",
      " [  60.89345369    1.10222902    0.        ]\n",
      " [  60.35238323    1.0883565     0.        ]\n",
      " [  59.82313617    1.07423577    0.        ]\n",
      " [  59.30602904    1.05986589    0.        ]\n",
      " [  58.80138213    1.04524629    0.        ]\n",
      " [  58.30951895    1.03037683    0.        ]\n",
      " [  58.83026432    1.0158006     0.        ]\n",
      " [  59.36328832    1.00148314    0.        ]\n",
      " [  59.9082632     0.98742332    0.        ]\n",
      " [  60.46486583    0.97361967    0.        ]\n",
      " [  61.03277808    0.96007036    0.        ]\n",
      " [  61.6116872     0.94677327    0.        ]\n",
      " [  62.20128616    0.933726      0.        ]\n",
      " [  62.80127387    0.92092588    0.        ]\n",
      " [  63.41135545    0.90837003    0.        ]\n",
      " [  64.03124237    0.89605538    0.        ]\n",
      " [  64.66065264    0.88397868    0.        ]\n",
      " [  65.29931087    0.8721365     0.        ]\n",
      " [  65.94694838    0.86052532    0.        ]\n",
      " [  66.60330322    0.84914148    0.        ]\n",
      " [  67.26812024    0.83798123    0.        ]\n",
      " [  67.94115101    0.82704074    0.        ]\n",
      " [  68.62215386    0.81631614    0.        ]\n",
      " [  69.3108938     0.80580349    0.        ]\n",
      " [  70.00714249    0.79549883    0.        ]\n",
      " [  70.71067812    0.78539816    0.        ]\n",
      " [  71.42128534    0.7754975     0.        ]\n",
      " [  72.13875519    0.76579283    0.        ]\n",
      " [  72.86288493    0.75628018    0.        ]\n",
      " [  73.59347797    0.74695557    0.        ]\n",
      " [  74.33034374    0.73781506    0.        ]\n",
      " [  75.07329752    0.72885473    0.        ]\n",
      " [  75.82216035    0.72007069    0.        ]\n",
      " [  76.57675888    0.71145913    0.        ]\n",
      " [  77.3369252     0.70301623    0.        ]\n",
      " [  78.10249676    0.69473828    0.        ]\n",
      " [  78.87331615    0.68662157    0.        ]\n",
      " [  79.64923101    0.67866249    0.        ]\n",
      " [  80.43009387    0.67085747    0.        ]\n",
      " [  81.21576202    0.66320299    0.        ]\n",
      " [  82.00609733    0.65569563    0.        ]\n",
      " [  82.80096618    0.64833199    0.        ]\n",
      " [  83.60023923    0.64110877    0.        ]\n",
      " [  84.40379138    0.63402272    0.        ]\n",
      " [  85.21150157    0.62707066    0.        ]\n",
      " [  86.02325267    0.62024949    0.        ]\n",
      " [  86.83893136    0.61355615    0.        ]\n",
      " [  87.658428      0.60698766    0.        ]\n",
      " [  88.48163651    0.60054113    0.        ]\n",
      " [  89.30845425    0.5942137     0.        ]\n",
      " [  90.13878189    0.5880026     0.        ]\n",
      " [  90.97252332    0.58190512    0.        ]\n",
      " [  91.80958556    0.5759186     0.        ]\n",
      " [  92.64987858    0.57004046    0.        ]\n",
      " [  93.49331527    0.56426819    0.        ]\n",
      " [  94.33981132    0.55859932    0.        ]]\n"
     ]
    }
   ],
   "source": [
    "print cylin_hex"
   ]
  },
  {
   "cell_type": "code",
   "execution_count": 101,
   "metadata": {
    "collapsed": false
   },
   "outputs": [
    {
     "name": "stderr",
     "output_type": "stream",
     "text": [
      "/Users/noon/anaconda/lib/python2.7/site-packages/matplotlib/collections.py:590: FutureWarning: elementwise comparison failed; returning scalar instead, but in the future will perform elementwise comparison\n",
      "  if self._edgecolors == str('face'):\n"
     ]
    },
    {
     "data": {
      "image/png": "[encoded data removed]",
      "text/plain": [
       "<matplotlib.figure.Figure at 0x10d72a190>"
      ]
     },
     "metadata": {},
     "output_type": "display_data"
    }
   ],
   "source": [
    "plt.scatter(flathex[0,:], flathex[1,:])\n",
    "plt.show()"
   ]
  },
  {
   "cell_type": "code",
   "execution_count": 115,
   "metadata": {
    "collapsed": false
   },
   "outputs": [
    {
     "data": {
      "image/png": "[encoded data removed]",
      "text/plain": [
       "<matplotlib.figure.Figure at 0x10f2c1d50>"
      ]
     },
     "metadata": {},
     "output_type": "display_data"
    }
   ],
   "source": [
    "r = cylin_hex[:,0]\n",
    "theta = cylin_hex[:,1]\n",
    "\n",
    "ax = plt.subplot(111, projection='polar')\n",
    "ax.plot(theta, r, color='r', linewidth=1)\n",
    "# ax.grid(True)\n",
    "\n",
    "# ax.set_title(\"A line plot on a polar axis\", va='bottom')\n",
    "plt.show()\n"
   ]
  },
  {
   "cell_type": "code",
   "execution_count": 116,
   "metadata": {
    "collapsed": true
   },
   "outputs": [],
   "source": [
    "#writing gcode (NOTE: CHECK MOTORS FOR Z <-> THETA CONVERSION TOMORROW)\n",
    "\n",
    "def write_gcode(f, r, t, z):\n",
    "    z_r = t * 6.4/360 #rot #TODO CHECK 6.4 also make this radians instead\n",
    "    y = z #vert\n",
    "    x = r #radial\n",
    "    #note: we don't care about Y right now\n",
    "    f.write(\"G0 X%f\\n\" % x)\n",
    "    f.write(\"G0 Z%f\\n\" % z_r)\n",
    "    f.write(\"M400\\n\") #waits to finish"
   ]
  },
  {
   "cell_type": "code",
   "execution_count": 117,
   "metadata": {
    "collapsed": true
   },
   "outputs": [],
   "source": [
    "with open ('test.gcode', 'wb+') as f:\n",
    "    for point in cylin_hex:\n",
    "        write_gcode(f, point[0], point[1], point[2])"
   ]
  },
  {
   "cell_type": "code",
   "execution_count": null,
   "metadata": {
    "collapsed": true
   },
   "outputs": [],
   "source": []
  }
 ],
 "metadata": {
  "kernelspec": {
   "display_name": "Python 2",
   "language": "python",
   "name": "python2"
  },
  "language_info": {
   "codemirror_mode": {
    "name": "ipython",
    "version": 2
   },
   "file_extension": ".py",
   "mimetype": "text/x-python",
   "name": "python",
   "nbconvert_exporter": "python",
   "pygments_lexer": "ipython2",
   "version": "2.7.11"
  }
 },
 "nbformat": 4,
 "nbformat_minor": 1
}
