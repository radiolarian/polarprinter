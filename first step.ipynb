{
 "cells": [
  {
   "cell_type": "code",
   "execution_count": 30,
   "metadata": {
    "collapsed": true
   },
   "outputs": [],
   "source": [
    "#generate a hexagon\n",
    "import math\n",
    "from PIL import Image, ImageDraw\n",
    "from matplotlib import pyplot as plt\n",
    "%matplotlib inline\n",
    "import numpy as np\n",
    "import matplotlib.cm as cm\n",
    "\n",
    "def hexagon_generator(edge_length, offset):\n",
    "    \"\"\"Generator for coordinates in a hexagon.\"\"\"\n",
    "    x, y = offset\n",
    "    for angle in range(0, 360, 60):\n",
    "        x += math.cos(math.radians(angle)) * edge_length\n",
    "        y += math.sin(math.radians(angle)) * edge_length\n",
    "        yield x, y"
   ]
  },
  {
   "cell_type": "code",
   "execution_count": 2,
   "metadata": {
    "collapsed": false
   },
   "outputs": [
    {
     "data": {
      "text/plain": [
       "<matplotlib.image.AxesImage at 0x10d650950>"
      ]
     },
     "execution_count": 2,
     "metadata": {},
     "output_type": "execute_result"
    },
    {
     "data": {
      "image/png": "[encoded data removed]",
      "text/plain": [
       "<matplotlib.figure.Figure at 0x1052c5f90>"
      ]
     },
     "metadata": {},
     "output_type": "display_data"
    }
   ],
   "source": [
    "image = Image.new('RGB', (150, 150), 'white')\n",
    "draw = ImageDraw.Draw(image)\n",
    "hexagon = list(hexagon_generator(50, offset=(30, 50)))\n",
    "draw.polygon(hexagon, outline='black', fill='red')\n",
    "plt.imshow(image)"
   ]
  },
  {
   "cell_type": "code",
   "execution_count": 3,
   "metadata": {
    "collapsed": false
   },
   "outputs": [
    {
     "name": "stdout",
     "output_type": "stream",
     "text": [
      "[[  80.           50.        ]\n",
      " [ 105.           93.30127019]\n",
      " [  80.          136.60254038]\n",
      " [  30.          136.60254038]\n",
      " [   5.           93.30127019]\n",
      " [  30.           50.        ]]\n"
     ]
    }
   ],
   "source": [
    "print np.asarray(hexagon)"
   ]
  },
  {
   "cell_type": "code",
   "execution_count": 4,
   "metadata": {
    "collapsed": false
   },
   "outputs": [
    {
     "name": "stdout",
     "output_type": "stream",
     "text": [
      "(6, 2)\n"
     ]
    }
   ],
   "source": [
    "nphex = np.asarray(hexagon)\n",
    "print nphex.shape "
   ]
  },
  {
   "cell_type": "code",
   "execution_count": 5,
   "metadata": {
    "collapsed": false
   },
   "outputs": [],
   "source": [
    "def subdivide_lines(lines, subdivisions=50, close=False):\n",
    "    '''given an np array of points that define lines, returns an array of points on the line\n",
    "       with # subdivisions each. Close if you want a closed loop'''\n",
    "    \n",
    "    subdivided = []\n",
    "    for i in xrange(0, lines.shape[0]):\n",
    "        r = lines[i]\n",
    "        line = []\n",
    "        if i != lines.shape[0] - 1:\n",
    "            v = lines[i+1] - lines[i]\n",
    "        elif i == lines.shape[0] - 1 and close:\n",
    "            v = lines[0] - lines[i]\n",
    "        else:\n",
    "            return np.asarray(subdivided)\n",
    "        for j in xrange(1, subdivisions+1):\n",
    "            line.append(np.asarray(r + (j*1.0/subdivisions)*v))\n",
    "        subdivided.append(np.asarray(line))\n",
    "            \n",
    "    return np.asarray(subdivided)"
   ]
  },
  {
   "cell_type": "code",
   "execution_count": 6,
   "metadata": {
    "collapsed": false
   },
   "outputs": [
    {
     "name": "stdout",
     "output_type": "stream",
     "text": [
      "(6, 50, 2)\n"
     ]
    }
   ],
   "source": [
    "subhex = subdivide_lines(nphex, close=True)\n",
    "print subhex.shape"
   ]
  },
  {
   "cell_type": "code",
   "execution_count": 7,
   "metadata": {
    "collapsed": false
   },
   "outputs": [
    {
     "name": "stdout",
     "output_type": "stream",
     "text": [
      "(2, 300)\n"
     ]
    }
   ],
   "source": [
    "flathex = subhex.reshape(-1,2)\n",
    "flathex = flathex.T\n",
    "print flathex.shape"
   ]
  },
  {
   "cell_type": "code",
   "execution_count": 8,
   "metadata": {
    "collapsed": true
   },
   "outputs": [],
   "source": [
    "def cartesian_to_cylindrical(x, y, z):\n",
    "    '''Given 3 np arrays--x, y, z--of cartesian points, returns a np array of r, theta (in radians), z'''\n",
    "    c_list = []\n",
    "    for i in xrange(len(x)):\n",
    "        # print (x[i], y[i])\n",
    "        r = np.sqrt(float(x[i])**2 + float(y[i])**2)\n",
    "        t = np.arctan2(float(y[i]), float(x[i]))\n",
    "        c_list.append([r, t, float(z[i])])\n",
    "    return np.asarray(c_list)\n"
   ]
  },
  {
   "cell_type": "code",
   "execution_count": 9,
   "metadata": {
    "collapsed": true
   },
   "outputs": [],
   "source": [
    "cylin_hex = cartesian_to_cylindrical(flathex[0,:], flathex[1,:], np.zeros(flathex.shape[1]))"
   ]
  },
  {
   "cell_type": "code",
   "execution_count": 11,
   "metadata": {
    "collapsed": false
   },
   "outputs": [
    {
     "name": "stderr",
     "output_type": "stream",
     "text": [
      "/Users/noon/anaconda/lib/python2.7/site-packages/matplotlib/collections.py:590: FutureWarning: elementwise comparison failed; returning scalar instead, but in the future will perform elementwise comparison\n",
      "  if self._edgecolors == str('face'):\n"
     ]
    },
    {
     "data": {
      "image/png": "[encoded data removed]",
      "text/plain": [
       "<matplotlib.figure.Figure at 0x1052bedd0>"
      ]
     },
     "metadata": {},
     "output_type": "display_data"
    }
   ],
   "source": [
    "plt.scatter(flathex[0,:], flathex[1,:])\n",
    "plt.show()"
   ]
  },
  {
   "cell_type": "code",
   "execution_count": 37,
   "metadata": {
    "collapsed": false
   },
   "outputs": [
    {
     "data": {
      "image/png": "[encoded data removed]",
      "text/plain": [
       "<matplotlib.figure.Figure at 0x10e3d0d10>"
      ]
     },
     "metadata": {},
     "output_type": "display_data"
    }
   ],
   "source": [
    "r = cylin_hex[:,0]\n",
    "theta = cylin_hex[:,1]\n",
    "ax = plt.subplot(111, projection='polar')\n",
    "colorspace = np.linspace(0, 1, len(theta))\n",
    "for rval, tval, i in zip(r, theta, colorspace):\n",
    "    ax.scatter(tval, rval, color=cm.cool(i), linewidth=1)\n",
    "plt.title(\"direction of travel: blue -> pink\")\n",
    "plt.show()\n"
   ]
  },
  {
   "cell_type": "code",
   "execution_count": 38,
   "metadata": {
    "collapsed": true
   },
   "outputs": [],
   "source": [
    "#writing gcode (NOTE: CHECK MOTORS FOR Z <-> THETA CONVERSION TOMORROW)\n",
    "\n",
    "def write_gcode(f, r, t, z):\n",
    "    print ('theta: ', math.degrees(t), 'r: ', r)\n",
    "    z_r = t * 1.25/(2*math.pi) #rot #currently, a full revolution = 1.25 in gcode\n",
    "    y = z #vert, unused right now\n",
    "    x = r + 100 #radial; X motor's zero is at 100\n",
    "    #note: we don't care about Y right now\n",
    "    f.write(\"G0 X%f\\n\" % x)\n",
    "    f.write(\"G0 Z%f\\n\" % z_r)\n",
    "    f.write(\"M400\\n\") #waits to finish"
   ]
  },
  {
   "cell_type": "code",
   "execution_count": 39,
   "metadata": {
    "collapsed": false
   },
   "outputs": [
    {
     "name": "stdout",
     "output_type": "stream",
     "text": [
      "('theta: ', 32.28781312256458, 'r: ', 95.22395990704463)\n",
      "('theta: ', 32.565040004772854, 'r: ', 96.11037967231681)\n",
      "('theta: ', 32.83719369200972, 'r: ', 96.999008351298798)\n",
      "('theta: ', 33.104400228991324, 'r: ', 97.889785787454741)\n",
      "('theta: ', 33.3667819806392, 'r: ', 98.782653851231487)\n",
      "('theta: ', 33.62445774246001, 'r: ', 99.677556361854414)\n",
      "('theta: ', 33.877542848434246, 'r: ', 100.57443901235098)\n",
      "('theta: ', 34.12614927635427, 'r: ', 101.4732492976723)\n",
      "('theta: ', 34.370385750568786, 'r: ', 102.3739364457868)\n",
      "('theta: ', 34.61035784210667, 'r: ', 103.27645135162439)\n",
      "('theta: ', 34.84616806616648, 'r: ', 104.18074651375312)\n",
      "('theta: ', 35.07791597696929, 'r: ', 105.08677597367486)\n",
      "('theta: ', 35.30569825998325, 'r: ', 105.99449525763011)\n",
      "('theta: ', 35.529608821536634, 'r: ', 106.90386132080643)\n",
      "('theta: ', 35.74973887584379, 'r: ', 107.81483249384873)\n",
      "('theta: ', 35.966177029475254, 'r: ', 108.72736843157338)\n",
      "('theta: ', 36.17900936330818, 'r: ', 109.6414300637927)\n",
      "('theta: ', 36.388319511998446, 'r: ', 110.55697954815874)\n",
      "('theta: ', 36.5941887410192, 'r: ', 111.47398022494053)\n",
      "('theta: ', 36.796696021314204, 'r: ', 112.39239657365117)\n",
      "('theta: ', 36.99591810161646, 'r: ', 113.3121941714453)\n",
      "('theta: ', 37.191929578484995, 'r: ', 114.23333965321055)\n",
      "('theta: ', 37.384802964113895, 'r: ', 115.15580067328005)\n",
      "('theta: ', 37.57460875196924, 'r: ', 116.0795458686958)\n",
      "('theta: ', 37.761415480309765, 'r: ', 117.00454482395585)\n",
      "('theta: ', 37.94528979364815, 'r: ', 117.93076803718162)\n",
      "('theta: ', 38.126296502209506, 'r: ', 118.85818688764347)\n",
      "('theta: ', 38.30449863944376, 'r: ', 119.78677360458636)\n",
      "('theta: ', 38.47995751764842, 'r: ', 120.71650123729924)\n",
      "('theta: ', 38.652732781757585, 'r: ', 121.64734362637483)\n",
      "('theta: ', 38.82288246135234, 'r: ', 122.57927537610817)\n",
      "('theta: ', 38.99046302094746, 'r: ', 123.51227182798559)\n",
      "('theta: ', 39.155529408607585, 'r: ', 124.44630903521666)\n",
      "('theta: ', 39.318135102945995, 'r: ', 125.38136373826491)\n",
      "('theta: ', 39.478332158557464, 'r: ', 126.31741334133443)\n",
      "('theta: ', 39.636171249935735, 'r: ', 127.25443588977156)\n",
      "('theta: ', 39.791701713925185, 'r: ', 128.19241004834265)\n",
      "('theta: ', 39.9449715907548, 'r: ', 129.13131508035093)\n",
      "('theta: ', 40.09602766370154, 'r: ', 130.07113082755646)\n",
      "('theta: ', 40.2449154974289, 'r: ', 131.01183769086578)\n",
      "('theta: ', 40.39167947504523, 'r: ', 131.95341661175809)\n",
      "('theta: ', 40.536362833925104, 'r: ', 132.89584905441797)\n",
      "('theta: ', 40.679007700335745, 'r: ', 133.83911698854368)\n",
      "('theta: ', 40.81965512290949, 'r: ', 134.78320287280434)\n",
      "('theta: ', 40.95834510500164, 'r: ', 135.72808963891731)\n",
      "('theta: ', 41.09511663597234, 'r: ', 136.67376067632154)\n",
      "('theta: ', 41.230007721429345, 'r: ', 137.62019981742091)\n",
      "('theta: ', 41.363055412467965, 'r: ', 138.56739132337486)\n",
      "('theta: ', 41.49429583394265, 'r: ', 139.51531987041332)\n",
      "('theta: ', 41.6237642118043, 'r: ', 140.46397053665467)\n",
      "('theta: ', 42.02272383781714, 'r: ', 140.66886492504528)\n",
      "('theta: ', 42.42050370610443, 'r: ', 140.88055969394458)\n",
      "('theta: ', 42.817070869689, 'r: ', 141.0990242349589)\n",
      "('theta: ', 43.212393046863006, 'r: ', 141.32422715315292)\n",
      "('theta: ', 43.60643863235743, 'r: ', 141.55613628809743)\n",
      "('theta: ', 43.99917670766343, 'r: ', 141.79471873519429)\n",
      "('theta: ', 44.39057705050623, 'r: ', 142.03994086724796)\n",
      "('theta: ', 44.780610143474, 'r: ', 142.29176835625364)\n",
      "('theta: ', 45.16924718180575, 'r: ', 142.55016619537204)\n",
      "('theta: ', 45.5564600803442, 'r: ', 142.81509872106182)\n",
      "('theta: ', 45.94222147966084, 'r: ', 143.08652963534013)\n",
      "('theta: ', 46.326504751362066, 'r: ', 143.36442202814308)\n",
      "('theta: ', 46.7092840025867, 'r: ', 143.64873839975749)\n",
      "('theta: ', 47.09053407970663, 'r: ', 143.93944068329711)\n",
      "('theta: ', 47.47023057124347, 'r: ', 144.23649026719573)\n",
      "('theta: ', 47.84834981001551, 'r: ', 144.53984801769127)\n",
      "('theta: ', 48.22486887453034, 'r: ', 144.84947430127502)\n",
      "('theta: ', 48.599765589639446, 'r: ', 145.16532900708137)\n",
      "('theta: ', 48.97301852647249, 'r: ', 145.48737156919367)\n",
      "('theta: ', 49.34460700166922, 'r: ', 145.81556098884326)\n",
      "('theta: ', 49.714511075928726, 'r: ', 146.14985585647875)\n",
      "('theta: ', 50.08271155189536, 'r: ', 146.49021437368421)\n",
      "('theta: ', 50.44918997140257, 'r: ', 146.83659437492548)\n",
      "('theta: ', 50.81392861209542, 'r: ', 147.18895334910445)\n",
      "('theta: ', 51.17691048345378, 'r: ', 147.54724846090247)\n",
      "('theta: ', 51.53811932223833, 'r: ', 147.91143657189505)\n",
      "('theta: ', 51.89753958738198, 'r: ', 148.28147426142004)\n",
      "('theta: ', 52.25515645434955, 'r: ', 148.65731784718375)\n",
      "('theta: ', 52.61095580898897, 'r: ', 149.03892340558912)\n",
      "('theta: ', 52.96492424089711, 'r: ', 149.42624679177186)\n",
      "('theta: ', 53.31704903632379, 'r: ', 149.81924365933085)\n",
      "('theta: ', 53.66731817063737, 'r: ', 150.21786947974064)\n",
      "('theta: ', 54.01572030037538, 'r: ', 150.62207956143362)\n",
      "('theta: ', 54.3622447549034, 'r: ', 151.03182906854198)\n",
      "('theta: ', 54.70688152770572, 'r: ', 151.44707303928897)\n",
      "('theta: ', 55.04962126733044, 'r: ', 151.86776640402061)\n",
      "('theta: ', 55.39045526801215, 'r: ', 152.29386400286984)\n",
      "('theta: ', 55.72937545999454, 'r: ', 152.72532060304559)\n",
      "('theta: ', 56.066374399575345, 'r: ', 153.16209091574032)\n",
      "('theta: ', 56.4014452588952, 'r: ', 153.60412961265052)\n",
      "('theta: ', 56.73458181549233, 'r: ', 154.05139134210503)\n",
      "('theta: ', 57.06577844164364, 'r: ', 154.50383074479686)\n",
      "('theta: ', 57.39503009351329, 'r: ', 154.96140246911577)\n",
      "('theta: ', 57.72233230012844, 'r: ', 155.42406118607801)\n",
      "('theta: ', 58.04768115220215, 'r: ', 155.89176160385182)\n",
      "('theta: ', 58.37107329082226, 'r: ', 156.36445848187694)\n",
      "('theta: ', 58.69250589602492, 'r: ', 156.8421066445776)\n",
      "('theta: ', 59.01197667527077, 'r: ', 157.32466099466893)\n",
      "('theta: ', 59.32948385184104, 'r: ', 157.81207652605659)\n",
      "('theta: ', 59.645026153170505, 'r: ', 158.3043083363317)\n",
      "('theta: ', 59.9583404616613, 'r: ', 157.80131190153136)\n",
      "('theta: ', 60.27364905577808, 'r: ', 157.30306429896521)\n",
      "('theta: ', 60.59095175642057, 'r: ', 156.80961079552611)\n",
      "('theta: ', 60.91024789297079, 'r: ', 156.32099679135999)\n",
      "('theta: ', 61.231536291114146, 'r: ', 155.83726780794245)\n",
      "('theta: ', 61.554815260689274, 'r: ', 155.35846947573981)\n",
      "('theta: ', 61.88008258358298, 'r: ', 154.88464752145185)\n",
      "('theta: ', 62.20733550168693, 'r: ', 154.415847754835)\n",
      "('theta: ', 62.53657070493386, 'r: ', 153.95211605510454)\n",
      "('theta: ', 62.86778431943135, 'r: ', 153.49349835691538)\n",
      "('theta: ', 63.200971895711945, 'r: ', 153.04004063592109)\n",
      "('theta: ', 63.5361283971189, 'r: ', 152.59178889391256)\n",
      "('theta: ', 63.873248188347766, 'r: ', 152.14878914353667)\n",
      "('theta: ', 64.21232502416395, 'r: ', 151.71108739259759)\n",
      "('theta: ', 64.55335203831763, 'r: ', 151.27872962794333)\n",
      "('theta: ', 64.89632173267752, 'r: ', 150.85176179894083)\n",
      "('theta: ', 65.24122596660533, 'r: ', 150.43022980054369)\n",
      "('theta: ', 65.58805594659383, 'r: ', 150.01417945595804)\n",
      "('theta: ', 65.93680221619107, 'r: ', 149.60365649891176)\n",
      "('theta: ', 66.28745464623422, 'r: ', 149.19870655553413)\n",
      "('theta: ', 66.64000242541687, 'r: ', 148.7993751258532)\n",
      "('theta: ', 66.9944340512134, 'r: ', 148.40570756491942)\n",
      "('theta: ', 67.35073732118484, 'r: ', 148.01774906356459)\n",
      "('theta: ', 67.7088993246906, 'r: ', 147.63554462880671)\n",
      "('theta: ', 68.0689064350306, 'r: ', 147.25913906391133)\n",
      "('theta: ', 68.43074430204224, 'r: ', 146.88857694812208)\n",
      "('theta: ', 68.79439784517734, 'r: ', 146.52390261607277)\n",
      "('theta: ', 69.15985124708297, 'r: ', 146.16516013689576)\n",
      "('theta: ', 69.52708794771141, 'r: ', 145.81239329304071)\n",
      "('theta: ', 69.8960906389829, 'r: ', 145.46564555882046)\n",
      "('theta: ', 70.26684126002593, 'r: ', 145.12496007870038)\n",
      "('theta: ', 70.6393209930182, 'r: ', 144.7903796453493)\n",
      "('theta: ', 71.01351025965214, 'r: ', 144.46194667747068)\n",
      "('theta: ', 71.38938871824747, 'r: ', 144.13970319743405)\n",
      "('theta: ', 71.76693526153365, 'r: ', 143.82369080872726)\n",
      "('theta: ', 72.14612801512334, 'r: ', 143.5139506732512)\n",
      "('theta: ', 72.52694433669836, 'r: ', 143.21052348847965)\n",
      "('theta: ', 72.90936081592811, 'r: ', 142.91344946450764)\n",
      "('theta: ', 73.29335327513975, 'r: ', 142.6227683010128)\n",
      "('theta: ', 73.67889677075856, 'r: ', 142.33851916415452)\n",
      "('theta: ', 74.06596559553576, 'r: ', 142.06074066343729)\n",
      "('theta: ', 74.45453328157991, 'r: ', 141.78947082856465)\n",
      "('theta: ', 74.84457260420683, 'r: ', 141.52474708631129)\n",
      "('theta: ', 75.23605558662159, 'r: ', 141.26660623744164)\n",
      "('theta: ', 75.62895350544497, 'r: ', 141.01508443370298)\n",
      "('theta: ', 76.02323689709516, 'r: ', 140.77021715492373)\n",
      "('theta: ', 76.41887556503372, 'r: ', 140.5320391862453)\n",
      "('theta: ', 76.81583858788373, 'r: ', 140.30058459551898)\n",
      "('theta: ', 77.21409432842609, 'r: ', 140.07588671089817)\n",
      "('theta: ', 77.61361044347788, 'r: ', 139.85797809865684)\n",
      "('theta: ', 77.73842583232953, 'r: ', 138.905188878839)\n",
      "('theta: ', 77.86496472387867, 'r: ', 137.95306795097923)\n",
      "('theta: ', 77.9932618041938, 'r: ', 137.00162924837446)\n",
      "('theta: ', 78.12335265942049, 'r: ', 136.05088708395328)\n",
      "('theta: ', 78.2552738037899, 'r: ', 135.10085616291323)\n",
      "('theta: ', 78.38906270861659, 'r: ', 134.15155159584893)\n",
      "('theta: ', 78.52475783232337, 'r: ', 133.20298891239366)\n",
      "('theta: ', 78.66239865153234, 'r: ', 132.25518407539582)\n",
      "('theta: ', 78.80202569326212, 'r: ', 131.30815349565458)\n",
      "('theta: ', 78.94368056827375, 'r: ', 130.36191404723982)\n",
      "('theta: ', 79.0874060056081, 'r: ', 129.41648308342141)\n",
      "('theta: ', 79.23324588836049, 'r: ', 128.47187845323606)\n",
      "('theta: ', 79.38124529073846, 'r: ', 127.52811851871968)\n",
      "('theta: ', 79.53145051645168, 'r: ', 126.58522217283569)\n",
      "('theta: ', 79.68390913848346, 'r: ', 125.64320885813019)\n",
      "('theta: ', 79.83867004029574, 'r: ', 124.70209858614763)\n",
      "('theta: ', 79.99578345852107, 'r: ', 123.76191195764083)\n",
      "('theta: ', 80.15530102719669, 'r: ', 122.82267018361225)\n",
      "('theta: ', 80.31727582359748, 'r: ', 121.88439510722425)\n",
      "('theta: ', 80.48176241572709, 'r: ', 120.94710922661817)\n",
      "('theta: ', 80.6488169115271, 'r: ', 120.01083571868442)\n",
      "('theta: ', 80.81849700986726, 'r: ', 119.07559846382725)\n",
      "('theta: ', 80.99086205338021, 'r: ', 118.14142207177031)\n",
      "('theta: ', 81.16597308320733, 'r: ', 117.2083319084515)\n",
      "('theta: ', 81.34389289572255, 'r: ', 116.27635412405778)\n",
      "('theta: ', 81.52468610130396, 'r: ', 115.34551568225288)\n",
      "('theta: ', 81.70841918522363, 'r: ', 114.41584439065421)\n",
      "('theta: ', 81.89516057072825, 'r: ', 113.48736893261714)\n",
      "('theta: ', 82.08498068438402, 'r: ', 112.56011890038813)\n",
      "('theta: ', 82.27795202376095, 'r: ', 111.63412482969115)\n",
      "('theta: ', 82.47414922753254, 'r: ', 110.70941823581508)\n",
      "('theta: ', 82.67364914806754, 'r: ', 109.78603165127238)\n",
      "('theta: ', 82.8765309265916, 'r: ', 108.86399866510386)\n",
      "('theta: ', 83.08287607099642, 'r: ', 107.94335396390689)\n",
      "('theta: ', 83.29276853637457, 'r: ', 107.02413337466858)\n",
      "('theta: ', 83.50629480835721, 'r: ', 106.10637390948955)\n",
      "('theta: ', 83.72354398933174, 'r: ', 105.19011381228732)\n",
      "('theta: ', 83.94460788761488, 'r: ', 104.27539260757314)\n",
      "('theta: ', 84.16958110965429, 'r: ', 103.3622511513999)\n",
      "('theta: ', 84.3985611553305, 'r: ', 102.45073168458403)\n",
      "('theta: ', 84.6316485164262, 'r: ', 101.54087788830756)\n",
      "('theta: ', 84.86894677832686, 'r: ', 100.63273494221322)\n",
      "('theta: ', 85.11056272501082, 'r: ', 99.72634958510865)\n",
      "('theta: ', 85.35660644738108, 'r: ', 98.821770178401749)\n",
      "('theta: ', 85.60719145498337, 'r: ', 97.919046772394637)\n",
      "('theta: ', 85.86243479114586, 'r: ', 97.018231175568062)\n",
      "('theta: ', 86.12245715156577, 'r: ', 96.119377026994528)\n",
      "('theta: ', 86.38738300635521, 'r: ', 95.222539872023347)\n",
      "('theta: ', 86.65734072554461, 'r: ', 94.327777241386514)\n",
      "('theta: ', 86.93246270802496, 'r: ', 93.435148733879544)\n",
      "('theta: ', 86.59485203668902, 'r: ', 92.598728277140765)\n",
      "('theta: ', 86.25109886152181, 'r: ', 91.76558144623344)\n",
      "('theta: ', 85.90105944323771, 'r: ', 90.935798219330877)\n",
      "('theta: ', 85.54458661503254, 'r: ', 90.109471518860971)\n",
      "('theta: ', 85.18152974375631, 'r: ', 89.286697312813473)\n",
      "('theta: ', 84.81173469616162, 'r: ', 88.467574718941677)\n",
      "('theta: ', 84.43504381094591, 'r: ', 87.652206111843441)\n",
      "('theta: ', 84.05129587737181, 'r: ', 86.840697232890989)\n",
      "('theta: ', 83.66032612132074, 'r: ', 86.033157302961953)\n",
      "('theta: ', 83.26196619970985, 'r: ', 85.229699137904703)\n",
      "('theta: ', 82.8560442042837, 'r: ', 84.430439266649017)\n",
      "('theta: ', 82.4423846758757, 'r: ', 83.635498051849169)\n",
      "('theta: ', 82.02080863032577, 'r: ', 82.844999812918232)\n",
      "('theta: ', 81.5911335973345, 'r: ', 82.059072951282957)\n",
      "('theta: ', 81.15317367363384, 'r: ', 81.277850077653596)\n",
      "('theta: ', 80.70673959195814, 'r: ', 80.501468141066169)\n",
      "('theta: ', 80.2516388074076, 'r: ', 79.730068559412672)\n",
      "('theta: ', 79.78767560290724, 'r: ', 78.963797351129216)\n",
      "('theta: ', 79.31465121557936, 'r: ', 78.202805267661333)\n",
      "('theta: ', 78.83236398596442, 'r: ', 77.447247926271174)\n",
      "('theta: ', 78.34060953214278, 'r: ', 76.697285942690769)\n",
      "('theta: ', 77.83918095092785, 'r: ', 75.953085063060001)\n",
      "('theta: ', 77.32786904841778, 'r: ', 75.214816294517277)\n",
      "('theta: ', 76.80646260230552, 'r: ', 74.482656033734045)\n",
      "('theta: ', 76.27474865845491, 'r: ', 73.756786192601268)\n",
      "('theta: ', 75.73251286435034, 'r: ', 73.037394320188142)\n",
      "('theta: ', 75.17953984211593, 'r: ', 72.324673719998259)\n",
      "('theta: ', 74.61561360387576, 'r: ', 71.618823561447599)\n",
      "('theta: ', 74.04051801228272, 'r: ', 70.920048984383257)\n",
      "('theta: ', 73.45403728907944, 'r: ', 70.228561195348973)\n",
      "('theta: ', 72.85595657456152, 'r: ', 69.54457755418774)\n",
      "('theta: ', 72.24606254078996, 'r: ', 68.868321649449172)\n",
      "('theta: ', 71.6241440613366, 'r: ', 68.200023360945735)\n",
      "('theta: ', 70.98999294023989, 'r: ', 67.53991890767341)\n",
      "('theta: ', 70.34340470269018, 'r: ', 66.888250879183985)\n",
      "('theta: ', 69.68417944974713, 'r: ', 66.24526824836785)\n",
      "('theta: ', 69.01212277910882, 'r: ', 65.611226363479673)\n",
      "('theta: ', 68.32704677359548, 'r: ', 64.986386917117699)\n",
      "('theta: ', 67.62877105857193, 'r: ', 64.371017889752849)\n",
      "('theta: ', 66.91712392900358, 'r: ', 63.765393465299319)\n",
      "('theta: ', 66.19194354621521, 'r: ', 63.169793916127297)\n",
      "('theta: ', 65.45307920369032, 'r: ', 62.584505454845207)\n",
      "('theta: ', 64.70039266040881, 'r: ', 62.009820050126784)\n",
      "('theta: ', 63.93375953926398, 'r: ', 61.446035203832814)\n",
      "('theta: ', 63.15307078702717, 'r: ', 60.893453686683088)\n",
      "('theta: ', 62.35823419113591, 'r: ', 60.352383229776216)\n",
      "('theta: ', 61.549175947274875, 'r: ', 59.823136169339456)\n",
      "('theta: ', 60.725842270300674, 'r: ', 59.306029042222065)\n",
      "('theta: ', 59.88820103954497, 'r: ', 58.801382129831289)\n",
      "('theta: ', 59.03624346792648, 'r: ', 58.30951894845299)\n",
      "('theta: ', 58.20108717570559, 'r: ', 58.830264320330897)\n",
      "('theta: ', 57.38075692880719, 'r: ', 59.363288318623312)\n",
      "('theta: ', 56.5751888173962, 'r: ', 59.908263203000622)\n",
      "('theta: ', 55.7842978675626, 'r: ', 60.464865831323884)\n",
      "('theta: ', 55.00797980144134, 'r: ', 61.032778078668507)\n",
      "('theta: ', 54.24611274556325, 'r: ', 61.611687202997445)\n",
      "('theta: ', 53.49855887949368, 'r: ', 62.201286160335933)\n",
      "('theta: ', 52.76516601842533, 'r: ', 62.801273872430315)\n",
      "('theta: ', 52.04576912486749, 'r: ', 63.411355449950747)\n",
      "('theta: ', 51.34019174590991, 'r: ', 64.031242374328471)\n",
      "('theta: ', 50.648247373735266, 'r: ', 64.660652641308829)\n",
      "('theta: ', 49.9697407281103, 'r: ', 65.299310869258022)\n",
      "('theta: ', 49.30446896050799, 'r: ', 65.946948375190175)\n",
      "('theta: ', 48.65222278030633, 'r: ', 66.603303221386838)\n",
      "('theta: ', 48.01278750418334, 'r: ', 67.268120235368542)\n",
      "('theta: ', 47.385944030388806, 'r: ', 67.941151005852106)\n",
      "('theta: ', 46.77146974003408, 'r: ', 68.622153857191037)\n",
      "('theta: ', 46.169139327907416, 'r: ', 69.310893804653816)\n",
      "('theta: ', 45.57872556560776, 'r: ', 70.007142492748542)\n",
      "('theta: ', 45.0, 'r: ', 70.710678118654741)\n",
      "('theta: ', 44.432733590142064, 'r: ', 71.42128534267637)\n",
      "('theta: ', 43.87669728592457, 'r: ', 72.138755187485728)\n",
      "('theta: ', 43.33166255170669, 'r: ', 72.862884927787476)\n",
      "('theta: ', 42.797401838234194, 'r: ', 73.593477971896391)\n",
      "('theta: ', 42.27368900609374, 'r: ', 74.330343736592525)\n",
      "('theta: ', 41.76029970389787, 'r: ', 75.073297516493838)\n",
      "('theta: ', 41.257011704312866, 'r: ', 75.822160349069449)\n",
      "('theta: ', 40.763605200941164, 'r: ', 76.576758876306585)\n",
      "('theta: ', 40.279863068956445, 'r: ', 77.336925203941234)\n",
      "('theta: ', 39.80557109226519, 'r: ', 78.10249675906654)\n",
      "('theta: ', 39.34051815983752, 'r: ', 78.87331614684399)\n",
      "('theta: ', 38.884496433714595, 'r: ', 79.649231006959511)\n",
      "('theta: ', 38.437301491062534, 'r: ', 80.430093870391573)\n",
      "('theta: ', 37.99873244250467, 'r: ', 81.21576201698781)\n",
      "('theta: ', 37.568592028827496, 'r: ', 82.006097334283623)\n",
      "('theta: ', 37.14668669802178, 'r: ', 82.800966177937809)\n",
      "('theta: ', 36.732826664489366, 'r: ', 83.600239234107462)\n",
      "('theta: ', 36.32682595212023, 'r: ', 84.403791384036765)\n",
      "('theta: ', 35.92850242282284, 'r: ', 85.211501571090736)\n",
      "('theta: ', 35.53767779197438, 'r: ', 86.023252670426274)\n",
      "('theta: ', 35.15417763214743, 'r: ', 86.838931361457924)\n",
      "('theta: ', 34.77783136636388, 'r: ', 87.658428003244509)\n",
      "('theta: ', 34.40847225202862, 'r: ', 88.481636512894582)\n",
      "('theta: ', 34.04593735660167, 'r: ', 89.308454247064432)\n",
      "('theta: ', 33.690067525979785, 'r: ', 90.13878188659973)\n",
      "('theta: ', 33.340707346477004, 'r: ', 90.972523324353276)\n",
      "('theta: ', 32.99770510121629, 'r: ', 91.809585556193426)\n",
      "('theta: ', 32.66091272167381, 'r: ', 92.649878575203758)\n",
      "('theta: ', 32.33018573505035, 'r: ', 93.493315269060815)\n",
      "('theta: ', 32.005383208083494, 'r: ', 94.339811320566042)\n"
     ]
    }
   ],
   "source": [
    "with open ('test.gcode', 'wb+') as f:\n",
    "    for point in cylin_hex:\n",
    "        write_gcode(f, point[0], point[1], point[2])"
   ]
  },
  {
   "cell_type": "code",
   "execution_count": null,
   "metadata": {
    "collapsed": true
   },
   "outputs": [],
   "source": []
  }
 ],
 "metadata": {
  "kernelspec": {
   "display_name": "Python 2",
   "language": "python",
   "name": "python2"
  },
  "language_info": {
   "codemirror_mode": {
    "name": "ipython",
    "version": 2
   },
   "file_extension": ".py",
   "mimetype": "text/x-python",
   "name": "python",
   "nbconvert_exporter": "python",
   "pygments_lexer": "ipython2",
   "version": "2.7.11"
  }
 },
 "nbformat": 4,
 "nbformat_minor": 1
}
